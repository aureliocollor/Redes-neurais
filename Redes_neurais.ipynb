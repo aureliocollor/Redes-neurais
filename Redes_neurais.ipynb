{
  "nbformat": 4,
  "nbformat_minor": 0,
  "metadata": {
    "colab": {
      "provenance": [],
      "authorship_tag": "ABX9TyNjS5EOutpE/mn64WdsNzF3",
      "include_colab_link": true
    },
    "kernelspec": {
      "name": "python3",
      "display_name": "Python 3"
    },
    "language_info": {
      "name": "python"
    }
  },
  "cells": [
    {
      "cell_type": "markdown",
      "metadata": {
        "id": "view-in-github",
        "colab_type": "text"
      },
      "source": [
        "<a href=\"https://colab.research.google.com/github/aureliocollor/Redes-neurais/blob/main/Redes_neurais.ipynb\" target=\"_parent\"><img src=\"https://colab.research.google.com/assets/colab-badge.svg\" alt=\"Open In Colab\"/></a>"
      ]
    },
    {
      "cell_type": "markdown",
      "source": [
        "#Redes neurais\n",
        "\n",
        "O código abaixo é um exemplo simples de uma rede neural em Python usando a biblioteca Keras. O objetivo do código é treinar uma rede neural para classificar números binários como sendo maiores ou menores que 8."
      ],
      "metadata": {
        "id": "iy1O2x1ZLLMU"
      }
    },
    {
      "cell_type": "markdown",
      "source": [
        "Importando as bibliotecas:\n",
        "\n",
        "Inicamente, vou importar numpy para manipulação de dados, e Sequential e Dense do Keras para construir a rede neural."
      ],
      "metadata": {
        "id": "aFAfwASbOIP0"
      }
    },
    {
      "cell_type": "code",
      "source": [
        "import numpy as np\n",
        "from keras.models import Sequential\n",
        "from keras.layers import Densem\n"
      ],
      "metadata": {
        "id": "IpWGF2fZN4C_"
      },
      "execution_count": null,
      "outputs": []
    },
    {
      "cell_type": "markdown",
      "source": [
        "Criando dados de treinamento:\n",
        "\n",
        "Aqui, estou criando um conjunto de dados de treinamento. x_train contém números binários de 0 a 15 e y_train contém 0 se o número correspondente em x_train for menor que 8 e 1 caso contrário."
      ],
      "metadata": {
        "id": "7EMIcHZwObKH"
      }
    },
    {
      "cell_type": "code",
      "source": [
        "x_train = np.array([[0,0,0,0],[0,0,0,1],[0,0,1,0],[0,0,1,1],[0,1,0,0],[0,1,0,1],[0,1,1,0],[0,1,1,1],[1,0,0,0],[1,0,0,1],[1,0,1,0],[1,0,1,1],[1,1,0,0],[1,1,0,1],[1,1,1,0],[1,1,1,1]])\n",
        "y_train = np.array([[0],[0],[0],[0],[0],[0],[0],[0],[1],[1],[1],[1],[1],[1],[1],[1]])\n"
      ],
      "metadata": {
        "id": "CFGFbQ_1Oila"
      },
      "execution_count": null,
      "outputs": []
    },
    {
      "cell_type": "markdown",
      "source": [
        "Criando o modelo:\n",
        "\n",
        "Estou criando um modelo sequencial e adicionando duas camadas a ele. A primeira camada tem 16 neurônios e usa a função de ativação ReLU. A segunda camada tem 1 neurônio e usa a função de ativação sigmoide."
      ],
      "metadata": {
        "id": "kZWx5dRsOoaq"
      }
    },
    {
      "cell_type": "code",
      "source": [
        "model = Sequential()\n",
        "model.add(Dense(16, input_dim=4, activation='relu'))\n",
        "model.add(Dense(1, activation='sigmoid'))"
      ],
      "metadata": {
        "id": "afZHPb1YOvep"
      },
      "execution_count": null,
      "outputs": []
    },
    {
      "cell_type": "markdown",
      "source": [
        " Compilando o modelo::\n",
        "\n",
        " Compilando o modelo usando a perda de entropia cruzada binária como afunção de perda, Adam como otimizador e precisão como nossa métrica."
      ],
      "metadata": {
        "id": "euDWx8gbO15f"
      }
    },
    {
      "cell_type": "code",
      "source": [
        "model.compile(loss='binary_crossentropy', optimizer='adam', metrics=['accuracy'])\n"
      ],
      "metadata": {
        "id": "VpNbpPYhPIVC"
      },
      "execution_count": null,
      "outputs": []
    },
    {
      "cell_type": "markdown",
      "source": [
        "Treinando o modelo:\n",
        "\n",
        "Por fim, estou avaliando o modelo no conjunto de dados de treinamento e imprimindo a precisão."
      ],
      "metadata": {
        "id": "Iy6R5UGDPMRd"
      }
    },
    {
      "cell_type": "code",
      "source": [
        "scores = model.evaluate(x_train, y_train)\n",
        "print(\"\\n%s: %.2f%%\" % (model.metrics_names[1], scores[1]*100))"
      ],
      "metadata": {
        "colab": {
          "base_uri": "https://localhost:8080/"
        },
        "id": "tm0aquUQPW-e",
        "outputId": "d8d03898-646b-43af-e373-e0b10e9a0267"
      },
      "execution_count": null,
      "outputs": [
        {
          "output_type": "stream",
          "name": "stdout",
          "text": [
            "1/1 [==============================] - 1s 806ms/step - loss: 0.7631 - accuracy: 0.5000\n",
            "\n",
            "accuracy: 50.00%\n"
          ]
        }
      ]
    }
  ]
}